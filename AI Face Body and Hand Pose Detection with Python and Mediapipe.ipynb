{
 "cells": [
  {
   "cell_type": "markdown",
   "id": "a5aad78e",
   "metadata": {},
   "source": [
    "# Install packages and import dependencies  "
   ]
  },
  {
   "cell_type": "code",
   "execution_count": 13,
   "id": "f0667a51",
   "metadata": {
    "scrolled": true
   },
   "outputs": [
    {
     "name": "stdout",
     "output_type": "stream",
     "text": [
      "Requirement already satisfied: mediapipe in d:\\installations\\anaconda\\lib\\site-packages (0.8.10)\n",
      "Requirement already satisfied: opencv-python in d:\\installations\\anaconda\\lib\\site-packages (4.5.5.64)\n",
      "Requirement already satisfied: numpy in d:\\installations\\anaconda\\lib\\site-packages (from mediapipe) (1.22.4)\n",
      "Requirement already satisfied: attrs>=19.1.0 in d:\\installations\\anaconda\\lib\\site-packages (from mediapipe) (21.4.0)\n",
      "Requirement already satisfied: protobuf>=3.11.4 in d:\\installations\\anaconda\\lib\\site-packages (from mediapipe) (3.20.1)\n",
      "Requirement already satisfied: matplotlib in d:\\installations\\anaconda\\lib\\site-packages (from mediapipe) (3.5.2)\n",
      "Requirement already satisfied: opencv-contrib-python in d:\\installations\\anaconda\\lib\\site-packages (from mediapipe) (4.5.5.64)\n",
      "Requirement already satisfied: absl-py in d:\\installations\\anaconda\\lib\\site-packages (from mediapipe) (1.0.0)\n",
      "Requirement already satisfied: six in d:\\installations\\anaconda\\lib\\site-packages (from absl-py->mediapipe) (1.16.0)\n",
      "Requirement already satisfied: kiwisolver>=1.0.1 in d:\\installations\\anaconda\\lib\\site-packages (from matplotlib->mediapipe) (1.4.2)\n",
      "Requirement already satisfied: python-dateutil>=2.7 in d:\\installations\\anaconda\\lib\\site-packages (from matplotlib->mediapipe) (2.8.2)\n",
      "Requirement already satisfied: fonttools>=4.22.0 in d:\\installations\\anaconda\\lib\\site-packages (from matplotlib->mediapipe) (4.33.3)\n",
      "Requirement already satisfied: pyparsing>=2.2.1 in d:\\installations\\anaconda\\lib\\site-packages (from matplotlib->mediapipe) (3.0.4)\n",
      "Requirement already satisfied: packaging>=20.0 in d:\\installations\\anaconda\\lib\\site-packages (from matplotlib->mediapipe) (21.3)\n",
      "Requirement already satisfied: pillow>=6.2.0 in d:\\installations\\anaconda\\lib\\site-packages (from matplotlib->mediapipe) (9.0.1)\n",
      "Requirement already satisfied: cycler>=0.10 in d:\\installations\\anaconda\\lib\\site-packages (from matplotlib->mediapipe) (0.11.0)\n"
     ]
    }
   ],
   "source": [
    "!pip install mediapipe opencv-python"
   ]
  },
  {
   "cell_type": "code",
   "execution_count": 1,
   "id": "9a9f8310",
   "metadata": {},
   "outputs": [],
   "source": [
    "import mediapipe as mp\n",
    "import cv2"
   ]
  },
  {
   "cell_type": "code",
   "execution_count": 2,
   "id": "2ce43a97",
   "metadata": {},
   "outputs": [],
   "source": [
    "mp_drawing = mp.solutions.drawing_utils\n",
    "mp_holistic = mp.solutions.holistic"
   ]
  },
  {
   "cell_type": "markdown",
   "id": "71e08e8e",
   "metadata": {},
   "source": [
    "# Get Realtime Webcam Feed"
   ]
  },
  {
   "cell_type": "code",
   "execution_count": 6,
   "id": "d868218a",
   "metadata": {},
   "outputs": [],
   "source": [
    "cap = cv2.VideoCapture(0)\n",
    "while cap.isOpened():\n",
    "    ret, frame = cap.read()\n",
    "    cv2.imshow('Raw Webcam Feed', frame)\n",
    "    \n",
    "    if cv2.waitKey(10) & 0xFF == ord('q'):\n",
    "        break\n",
    "\n",
    "cap.release()\n",
    "cv2.destroyAllWindows()\n"
   ]
  },
  {
   "cell_type": "code",
   "execution_count": 21,
   "id": "cb33cdde",
   "metadata": {},
   "outputs": [],
   "source": [
    "\n",
    "cap.release()\n",
    "cv2.destroyAllWindows()"
   ]
  },
  {
   "cell_type": "markdown",
   "id": "f1d67b2d",
   "metadata": {},
   "source": [
    "# Make Detections from Feed"
   ]
  },
  {
   "cell_type": "code",
   "execution_count": 17,
   "id": "cdd4187c",
   "metadata": {},
   "outputs": [],
   "source": [
    "cap = cv2.VideoCapture(0)\n",
    "\n",
    "#Initiate holistic model\n",
    "with mp_holistic.Holistic(min_detection_confidence=0.5, min_tracking_confidence=0.5) as holistic:\n",
    "    \n",
    "\n",
    "    while cap.isOpened():\n",
    "        ret, frame = cap.read()\n",
    "        \n",
    "        # Recolor Feed\n",
    "        image = cv2.cvtColor(frame, cv2.COLOR_BGR2RGB)\n",
    "        \n",
    "        try:\n",
    "            # make Detections\n",
    "            results = holistic.process(image)\n",
    "    #         print(results)\n",
    "            # pose landmarks\n",
    "    #         print(results.pose_landmarks)\n",
    "            # face landmarks, pose_landmarks, left_hand_landmarks, right_hand_marks\n",
    "\n",
    "\n",
    "            # Recolor Feed\n",
    "            image = cv2.cvtColor(image, cv2.COLOR_RGB2BGR)\n",
    "\n",
    "            #Draw face landmarks\n",
    "    #         mp_drawing.draw_landmarks(image, results.face_landmarks, mp_holistic.FACEMESH_CONTOURS)\n",
    "\n",
    "            #Draw right hand landmarks\n",
    "            mp_drawing.draw_landmarks(image, results.right_hand_landmarks, mp_holistic.HAND_CONNECTIONS)\n",
    "\n",
    "            #Draw left hand landmarks\n",
    "            mp_drawing.draw_landmarks(image, results.left_hand_landmarks, mp_holistic.HAND_CONNECTIONS)\n",
    "\n",
    "            #Draw pose landmarks\n",
    "            mp_drawing.draw_landmarks(image, results.pose_landmarks, mp_holistic.POSE_CONNECTIONS)\n",
    "\n",
    "            cv2.imshow('Raw Webcam Feed', image)\n",
    "        except:\n",
    "            pass\n",
    "\n",
    "        if cv2.waitKey(10) & 0xFF == ord('q'):\n",
    "            break\n",
    "            \n",
    "cap.release()\n",
    "cv2.destroyAllWindows()\n"
   ]
  },
  {
   "cell_type": "markdown",
   "id": "fb8c0f9a",
   "metadata": {},
   "source": [
    "# Applying Styling "
   ]
  },
  {
   "cell_type": "code",
   "execution_count": 22,
   "id": "f879c570",
   "metadata": {},
   "outputs": [],
   "source": [
    "cap = cv2.VideoCapture(0)\n",
    "\n",
    "#Initiate holistic model\n",
    "with mp_holistic.Holistic(min_detection_confidence=0.5, min_tracking_confidence=0.5) as holistic:\n",
    "    \n",
    "\n",
    "    while cap.isOpened():\n",
    "        ret, frame = cap.read()\n",
    "        \n",
    "        # Recolor Feed\n",
    "        image = cv2.cvtColor(frame, cv2.COLOR_BGR2RGB)\n",
    "        image = cv2.flip(image, 1)\n",
    "        \n",
    "        try:\n",
    "            # make Detections\n",
    "            results = holistic.process(image)\n",
    "    #         print(results)\n",
    "            # pose landmarks\n",
    "    #         print(results.pose_landmarks)\n",
    "            # face landmarks, pose_landmarks, left_hand_landmarks, right_hand_marks\n",
    "\n",
    "\n",
    "            # Recolor Feed\n",
    "            image = cv2.cvtColor(image, cv2.COLOR_RGB2BGR)\n",
    "            \n",
    "            #Draw face landmarks\n",
    "            mp_drawing.draw_landmarks(image, results.face_landmarks, mp_holistic.FACEMESH_CONTOURS,\n",
    "                                     mp_drawing.DrawingSpec(color=(0,0,0), thickness=2, circle_radius=1),\n",
    "                                     mp_drawing.DrawingSpec(color=(0,0,0), thickness=2, circle_radius=1))\n",
    "\n",
    "            #Draw right hand landmarks\n",
    "            mp_drawing.draw_landmarks(image, results.right_hand_landmarks, mp_holistic.HAND_CONNECTIONS, \n",
    "                                     mp_drawing.DrawingSpec(color=(121,21,76), thickness=2, circle_radius=4),\n",
    "                                     mp_drawing.DrawingSpec(color=(121,21,76), thickness=2, circle_radius=2))\n",
    "\n",
    "            #Draw left hand landmarks\n",
    "            mp_drawing.draw_landmarks(image, results.left_hand_landmarks, mp_holistic.HAND_CONNECTIONS, \n",
    "                                     mp_drawing.DrawingSpec(color=(255,255,255), thickness=2, circle_radius=4),\n",
    "                                     mp_drawing.DrawingSpec(color=(0,0,0), thickness=2, circle_radius=2))\n",
    "\n",
    "            #Draw pose landmarks\n",
    "#             mp_drawing.draw_landmarks(image, results.pose_landmarks, mp_holistic.POSE_CONNECTIONS)\n",
    "\n",
    "            cv2.imshow('Raw Webcam Feed', image)\n",
    "        except e:\n",
    "            print(e)\n",
    "            break\n",
    "\n",
    "        if cv2.waitKey(10) & 0xFF == ord('q'):\n",
    "            break\n",
    "            \n",
    "cap.release()\n",
    "cv2.destroyAllWindows()"
   ]
  },
  {
   "cell_type": "code",
   "execution_count": null,
   "id": "6e41d223",
   "metadata": {},
   "outputs": [],
   "source": []
  },
  {
   "cell_type": "code",
   "execution_count": null,
   "id": "982243f7",
   "metadata": {},
   "outputs": [],
   "source": []
  }
 ],
 "metadata": {
  "kernelspec": {
   "display_name": "Python 3 (ipykernel)",
   "language": "python",
   "name": "python3"
  },
  "language_info": {
   "codemirror_mode": {
    "name": "ipython",
    "version": 3
   },
   "file_extension": ".py",
   "mimetype": "text/x-python",
   "name": "python",
   "nbconvert_exporter": "python",
   "pygments_lexer": "ipython3",
   "version": "3.9.12"
  }
 },
 "nbformat": 4,
 "nbformat_minor": 5
}
